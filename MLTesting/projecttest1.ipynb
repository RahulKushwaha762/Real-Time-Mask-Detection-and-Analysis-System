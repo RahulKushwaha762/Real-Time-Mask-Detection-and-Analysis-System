{
 "cells": [
  {
   "cell_type": "code",
   "execution_count": 1,
   "metadata": {},
   "outputs": [
    {
     "name": "stdout",
     "output_type": "stream",
     "text": [
      "Collecting opencv-python\n",
      "  Downloading opencv_python-4.4.0.42-cp38-cp38-win_amd64.whl (33.5 MB)\n",
      "Requirement already satisfied: numpy>=1.17.3 in c:\\users\\rahulkushwaha\\anaconda3\\lib\\site-packages (from opencv-python) (1.18.5)\n",
      "Installing collected packages: opencv-python\n",
      "Successfully installed opencv-python-4.4.0.42\n",
      "Note: you may need to restart the kernel to use updated packages.\n"
     ]
    }
   ],
   "source": [
    "pip install opencv-python"
   ]
  },
  {
   "cell_type": "code",
   "execution_count": 1,
   "metadata": {},
   "outputs": [],
   "source": [
    "import cv2\n",
    "import pickle\n",
    "import numpy as np\n",
    "cap = cv2.VideoCapture(0)\n",
    "\n",
    "cascade_classifier = cv2.CascadeClassifier('haar/haarcascade_frontalface_alt2.xml')\n",
    "recognizer = cv2.face.LBPHFaceRecognizer_create()\n",
    "recognizer.read(\"trainer.yml\")\n",
    "\n",
    "labels = {}\n",
    "with open(\"labels.pickle\",\"rb\") as f:\n",
    "    og_labels = pickle.load(f)\n",
    "    labels = {v:k for k,v in og_labels.items()}\n",
    "    \n",
    "count = 0;\n",
    "while True:\n",
    "    ret,frame = cap.read()\n",
    "    grey = cv2.cvtColor(frame,cv2.COLOR_BGR2GRAY)\n",
    "    faces = cascade_classifier.detectMultiScale(grey,scaleFactor=1.5,minNeighbors=5)\n",
    "    #if len(faces) == 0:\n",
    "        #print(': No face found')\n",
    "    for (x, y, w, h) in faces:\n",
    "        part = grey[y:y+h,x:x+w]\n",
    "        white = frame[y:y+h,x:x+w]\n",
    "        #prediction\n",
    "        id_,conf = recognizer.predict(part)\n",
    "        if conf>=66: # and conf <=85:\n",
    "            #print(id_)\n",
    "            #print(labels[id_])\n",
    "            font = cv2.FONT_HERSHEY_SIMPLEX\n",
    "            name = labels[id_]\n",
    "            color = (255,255,255)\n",
    "            stroke = 2\n",
    "            cv2.putText(frame,name,(x,y),font,1,color,stroke,cv2.LINE_AA)\n",
    "        cv2.imwrite('found'+'.png',white)\n",
    "        count = count +1 ;\n",
    "        #print(x,y,w,h)\n",
    "        cv2.rectangle(frame, (x, y), (x+w, y+h), (0, 255, 0), 2)\n",
    "        cv2.rectangle(frame, (x-3, y-3), (x+w+3, y+h+3), (0, 255, 0), 1)\n",
    "     \n",
    "    cv2.imshow('frame',frame)\n",
    "    if cv2.waitKey(1) & 0xFF == ord('q'):\n",
    "        break\n",
    "cap.release()\n",
    "cv2.destroyAllWindows()\n"
   ]
  },
  {
   "cell_type": "code",
   "execution_count": 2,
   "metadata": {},
   "outputs": [],
   "source": [
    "cap.release()    "
   ]
  },
  {
   "cell_type": "code",
   "execution_count": null,
   "metadata": {},
   "outputs": [],
   "source": []
  },
  {
   "cell_type": "code",
   "execution_count": null,
   "metadata": {},
   "outputs": [],
   "source": []
  }
 ],
 "metadata": {
  "kernelspec": {
   "display_name": "Python 3",
   "language": "python",
   "name": "python3"
  },
  "language_info": {
   "codemirror_mode": {
    "name": "ipython",
    "version": 3
   },
   "file_extension": ".py",
   "mimetype": "text/x-python",
   "name": "python",
   "nbconvert_exporter": "python",
   "pygments_lexer": "ipython3",
   "version": "3.8.3"
  }
 },
 "nbformat": 4,
 "nbformat_minor": 4
}
